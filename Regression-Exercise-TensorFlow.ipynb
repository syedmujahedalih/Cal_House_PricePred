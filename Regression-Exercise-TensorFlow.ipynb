{
 "cells": [
  {
   "cell_type": "markdown",
   "metadata": {},
   "source": [
    "# Regression Exercise \n",
    "\n",
    "California Housing Data\n",
    "\n",
    "This data set contains information about all the block groups in California from the 1990 Census. In this sample a block group on average includes 1425.5 individuals living in a geographically compact area. \n",
    "\n",
    "The task is to aproximate the median house value of each block from the values of the rest of the variables. \n",
    "\n",
    " It has been obtained from the LIACC repository. The original page where the data set can be found is: http://www.liaad.up.pt/~ltorgo/Regression/DataSets.html.\n",
    " "
   ]
  },
  {
   "cell_type": "markdown",
   "metadata": {
    "collapsed": true
   },
   "source": [
    "The Features:\n",
    " \n",
    "* housingMedianAge: continuous. \n",
    "* totalRooms: continuous. \n",
    "* totalBedrooms: continuous. \n",
    "* population: continuous. \n",
    "* households: continuous. \n",
    "* medianIncome: continuous. \n",
    "* medianHouseValue: continuous. "
   ]
  },
  {
   "cell_type": "markdown",
   "metadata": {},
   "source": [
    "## The Data"
   ]
  },
  {
   "cell_type": "markdown",
   "metadata": {},
   "source": [
    "** Import the cal_housing_clean.csv file with pandas. Separate it into a training (70%) and testing set(30%).**"
   ]
  },
  {
   "cell_type": "code",
   "execution_count": 1,
   "metadata": {},
   "outputs": [],
   "source": [
    "import pandas as pd"
   ]
  },
  {
   "cell_type": "code",
   "execution_count": 2,
   "metadata": {},
   "outputs": [],
   "source": [
    "data = pd.read_csv(\"cal_housing_clean.csv\")"
   ]
  },
  {
   "cell_type": "code",
   "execution_count": 3,
   "metadata": {},
   "outputs": [
    {
     "data": {
      "text/html": [
       "<div>\n",
       "<style>\n",
       "    .dataframe thead tr:only-child th {\n",
       "        text-align: right;\n",
       "    }\n",
       "\n",
       "    .dataframe thead th {\n",
       "        text-align: left;\n",
       "    }\n",
       "\n",
       "    .dataframe tbody tr th {\n",
       "        vertical-align: top;\n",
       "    }\n",
       "</style>\n",
       "<table border=\"1\" class=\"dataframe\">\n",
       "  <thead>\n",
       "    <tr style=\"text-align: right;\">\n",
       "      <th></th>\n",
       "      <th>housingMedianAge</th>\n",
       "      <th>totalRooms</th>\n",
       "      <th>totalBedrooms</th>\n",
       "      <th>population</th>\n",
       "      <th>households</th>\n",
       "      <th>medianIncome</th>\n",
       "      <th>medianHouseValue</th>\n",
       "    </tr>\n",
       "  </thead>\n",
       "  <tbody>\n",
       "    <tr>\n",
       "      <th>0</th>\n",
       "      <td>41.0</td>\n",
       "      <td>880.0</td>\n",
       "      <td>129.0</td>\n",
       "      <td>322.0</td>\n",
       "      <td>126.0</td>\n",
       "      <td>8.3252</td>\n",
       "      <td>452600.0</td>\n",
       "    </tr>\n",
       "    <tr>\n",
       "      <th>1</th>\n",
       "      <td>21.0</td>\n",
       "      <td>7099.0</td>\n",
       "      <td>1106.0</td>\n",
       "      <td>2401.0</td>\n",
       "      <td>1138.0</td>\n",
       "      <td>8.3014</td>\n",
       "      <td>358500.0</td>\n",
       "    </tr>\n",
       "    <tr>\n",
       "      <th>2</th>\n",
       "      <td>52.0</td>\n",
       "      <td>1467.0</td>\n",
       "      <td>190.0</td>\n",
       "      <td>496.0</td>\n",
       "      <td>177.0</td>\n",
       "      <td>7.2574</td>\n",
       "      <td>352100.0</td>\n",
       "    </tr>\n",
       "    <tr>\n",
       "      <th>3</th>\n",
       "      <td>52.0</td>\n",
       "      <td>1274.0</td>\n",
       "      <td>235.0</td>\n",
       "      <td>558.0</td>\n",
       "      <td>219.0</td>\n",
       "      <td>5.6431</td>\n",
       "      <td>341300.0</td>\n",
       "    </tr>\n",
       "    <tr>\n",
       "      <th>4</th>\n",
       "      <td>52.0</td>\n",
       "      <td>1627.0</td>\n",
       "      <td>280.0</td>\n",
       "      <td>565.0</td>\n",
       "      <td>259.0</td>\n",
       "      <td>3.8462</td>\n",
       "      <td>342200.0</td>\n",
       "    </tr>\n",
       "  </tbody>\n",
       "</table>\n",
       "</div>"
      ],
      "text/plain": [
       "   housingMedianAge  totalRooms  totalBedrooms  population  households  \\\n",
       "0              41.0       880.0          129.0       322.0       126.0   \n",
       "1              21.0      7099.0         1106.0      2401.0      1138.0   \n",
       "2              52.0      1467.0          190.0       496.0       177.0   \n",
       "3              52.0      1274.0          235.0       558.0       219.0   \n",
       "4              52.0      1627.0          280.0       565.0       259.0   \n",
       "\n",
       "   medianIncome  medianHouseValue  \n",
       "0        8.3252          452600.0  \n",
       "1        8.3014          358500.0  \n",
       "2        7.2574          352100.0  \n",
       "3        5.6431          341300.0  \n",
       "4        3.8462          342200.0  "
      ]
     },
     "execution_count": 3,
     "metadata": {},
     "output_type": "execute_result"
    }
   ],
   "source": [
    "data.head()"
   ]
  },
  {
   "cell_type": "code",
   "execution_count": 4,
   "metadata": {},
   "outputs": [
    {
     "data": {
      "text/html": [
       "<div>\n",
       "<style>\n",
       "    .dataframe thead tr:only-child th {\n",
       "        text-align: right;\n",
       "    }\n",
       "\n",
       "    .dataframe thead th {\n",
       "        text-align: left;\n",
       "    }\n",
       "\n",
       "    .dataframe tbody tr th {\n",
       "        vertical-align: top;\n",
       "    }\n",
       "</style>\n",
       "<table border=\"1\" class=\"dataframe\">\n",
       "  <thead>\n",
       "    <tr style=\"text-align: right;\">\n",
       "      <th></th>\n",
       "      <th>housingMedianAge</th>\n",
       "      <th>totalRooms</th>\n",
       "      <th>totalBedrooms</th>\n",
       "      <th>population</th>\n",
       "      <th>households</th>\n",
       "      <th>medianIncome</th>\n",
       "      <th>medianHouseValue</th>\n",
       "    </tr>\n",
       "  </thead>\n",
       "  <tbody>\n",
       "    <tr>\n",
       "      <th>count</th>\n",
       "      <td>20640.000000</td>\n",
       "      <td>20640.000000</td>\n",
       "      <td>20640.000000</td>\n",
       "      <td>20640.000000</td>\n",
       "      <td>20640.000000</td>\n",
       "      <td>20640.000000</td>\n",
       "      <td>20640.000000</td>\n",
       "    </tr>\n",
       "    <tr>\n",
       "      <th>mean</th>\n",
       "      <td>28.639486</td>\n",
       "      <td>2635.763081</td>\n",
       "      <td>537.898014</td>\n",
       "      <td>1425.476744</td>\n",
       "      <td>499.539680</td>\n",
       "      <td>3.870671</td>\n",
       "      <td>206855.816909</td>\n",
       "    </tr>\n",
       "    <tr>\n",
       "      <th>std</th>\n",
       "      <td>12.585558</td>\n",
       "      <td>2181.615252</td>\n",
       "      <td>421.247906</td>\n",
       "      <td>1132.462122</td>\n",
       "      <td>382.329753</td>\n",
       "      <td>1.899822</td>\n",
       "      <td>115395.615874</td>\n",
       "    </tr>\n",
       "    <tr>\n",
       "      <th>min</th>\n",
       "      <td>1.000000</td>\n",
       "      <td>2.000000</td>\n",
       "      <td>1.000000</td>\n",
       "      <td>3.000000</td>\n",
       "      <td>1.000000</td>\n",
       "      <td>0.499900</td>\n",
       "      <td>14999.000000</td>\n",
       "    </tr>\n",
       "    <tr>\n",
       "      <th>25%</th>\n",
       "      <td>18.000000</td>\n",
       "      <td>1447.750000</td>\n",
       "      <td>295.000000</td>\n",
       "      <td>787.000000</td>\n",
       "      <td>280.000000</td>\n",
       "      <td>2.563400</td>\n",
       "      <td>119600.000000</td>\n",
       "    </tr>\n",
       "    <tr>\n",
       "      <th>50%</th>\n",
       "      <td>29.000000</td>\n",
       "      <td>2127.000000</td>\n",
       "      <td>435.000000</td>\n",
       "      <td>1166.000000</td>\n",
       "      <td>409.000000</td>\n",
       "      <td>3.534800</td>\n",
       "      <td>179700.000000</td>\n",
       "    </tr>\n",
       "    <tr>\n",
       "      <th>75%</th>\n",
       "      <td>37.000000</td>\n",
       "      <td>3148.000000</td>\n",
       "      <td>647.000000</td>\n",
       "      <td>1725.000000</td>\n",
       "      <td>605.000000</td>\n",
       "      <td>4.743250</td>\n",
       "      <td>264725.000000</td>\n",
       "    </tr>\n",
       "    <tr>\n",
       "      <th>max</th>\n",
       "      <td>52.000000</td>\n",
       "      <td>39320.000000</td>\n",
       "      <td>6445.000000</td>\n",
       "      <td>35682.000000</td>\n",
       "      <td>6082.000000</td>\n",
       "      <td>15.000100</td>\n",
       "      <td>500001.000000</td>\n",
       "    </tr>\n",
       "  </tbody>\n",
       "</table>\n",
       "</div>"
      ],
      "text/plain": [
       "       housingMedianAge    totalRooms  totalBedrooms    population  \\\n",
       "count      20640.000000  20640.000000   20640.000000  20640.000000   \n",
       "mean          28.639486   2635.763081     537.898014   1425.476744   \n",
       "std           12.585558   2181.615252     421.247906   1132.462122   \n",
       "min            1.000000      2.000000       1.000000      3.000000   \n",
       "25%           18.000000   1447.750000     295.000000    787.000000   \n",
       "50%           29.000000   2127.000000     435.000000   1166.000000   \n",
       "75%           37.000000   3148.000000     647.000000   1725.000000   \n",
       "max           52.000000  39320.000000    6445.000000  35682.000000   \n",
       "\n",
       "         households  medianIncome  medianHouseValue  \n",
       "count  20640.000000  20640.000000      20640.000000  \n",
       "mean     499.539680      3.870671     206855.816909  \n",
       "std      382.329753      1.899822     115395.615874  \n",
       "min        1.000000      0.499900      14999.000000  \n",
       "25%      280.000000      2.563400     119600.000000  \n",
       "50%      409.000000      3.534800     179700.000000  \n",
       "75%      605.000000      4.743250     264725.000000  \n",
       "max     6082.000000     15.000100     500001.000000  "
      ]
     },
     "execution_count": 4,
     "metadata": {},
     "output_type": "execute_result"
    }
   ],
   "source": [
    "data.describe()"
   ]
  },
  {
   "cell_type": "code",
   "execution_count": 5,
   "metadata": {
    "scrolled": true
   },
   "outputs": [],
   "source": [
    "features = data.drop('medianHouseValue',axis=1)"
   ]
  },
  {
   "cell_type": "code",
   "execution_count": 6,
   "metadata": {},
   "outputs": [],
   "source": [
    "labels = data['medianHouseValue']"
   ]
  },
  {
   "cell_type": "code",
   "execution_count": 7,
   "metadata": {},
   "outputs": [],
   "source": [
    "from sklearn.model_selection import train_test_split"
   ]
  },
  {
   "cell_type": "code",
   "execution_count": 8,
   "metadata": {},
   "outputs": [],
   "source": [
    "f_train,f_test,l_train,l_test = train_test_split(features,labels,test_size=0.3,random_state=0)"
   ]
  },
  {
   "cell_type": "markdown",
   "metadata": {},
   "source": [
    "### Scale the Feature Data\n",
    "\n",
    "** Use sklearn preprocessing to create a MinMaxScaler for the feature data. Fit this scaler only to the training data. Then use it to transform X_test and X_train. Then use the scaled X_test and X_train along with pd.Dataframe to re-create two dataframes of scaled data.**"
   ]
  },
  {
   "cell_type": "code",
   "execution_count": 9,
   "metadata": {},
   "outputs": [],
   "source": [
    "from sklearn.preprocessing import MinMaxScaler"
   ]
  },
  {
   "cell_type": "code",
   "execution_count": 10,
   "metadata": {},
   "outputs": [],
   "source": [
    "scaler = MinMaxScaler()"
   ]
  },
  {
   "cell_type": "code",
   "execution_count": 11,
   "metadata": {},
   "outputs": [
    {
     "data": {
      "text/plain": [
       "MinMaxScaler(copy=True, feature_range=(0, 1))"
      ]
     },
     "execution_count": 11,
     "metadata": {},
     "output_type": "execute_result"
    }
   ],
   "source": [
    "scaler.fit(f_train)"
   ]
  },
  {
   "cell_type": "code",
   "execution_count": 12,
   "metadata": {},
   "outputs": [],
   "source": [
    "f_train = pd.DataFrame(data=scaler.transform(f_train),columns = f_train.columns,index=f_train.index)"
   ]
  },
  {
   "cell_type": "code",
   "execution_count": 13,
   "metadata": {},
   "outputs": [],
   "source": [
    "f_test = pd.DataFrame(data=scaler.transform(f_test),columns = f_test.columns,index=f_test.index)"
   ]
  },
  {
   "cell_type": "markdown",
   "metadata": {},
   "source": [
    "### Create Feature Columns\n",
    "\n",
    "** Create the necessary tf.feature_column objects for the estimator. They should all be trated as continuous numeric_columns. **"
   ]
  },
  {
   "cell_type": "code",
   "execution_count": 14,
   "metadata": {},
   "outputs": [],
   "source": [
    "import tensorflow as tf"
   ]
  },
  {
   "cell_type": "code",
   "execution_count": 15,
   "metadata": {},
   "outputs": [],
   "source": [
    "col_lst = ['housingMedianAge', 'totalRooms', 'totalBedrooms', 'population',\n",
    "       'households', 'medianIncome',]"
   ]
  },
  {
   "cell_type": "code",
   "execution_count": 16,
   "metadata": {},
   "outputs": [],
   "source": [
    "age = tf.feature_column.numeric_column('housingMedianAge')\n",
    "rooms = tf.feature_column.numeric_column('totalRooms')\n",
    "bedrooms = tf.feature_column.numeric_column('totalBedrooms')\n",
    "pop = tf.feature_column.numeric_column('population')\n",
    "households = tf.feature_column.numeric_column('households')\n",
    "income = tf.feature_column.numeric_column('medianIncome')"
   ]
  },
  {
   "cell_type": "code",
   "execution_count": 17,
   "metadata": {},
   "outputs": [],
   "source": [
    "feat_cols = [ age,rooms,bedrooms,pop,households,income]"
   ]
  },
  {
   "cell_type": "code",
   "execution_count": 18,
   "metadata": {},
   "outputs": [
    {
     "data": {
      "text/plain": [
       "[_NumericColumn(key='housingMedianAge', shape=(1,), default_value=None, dtype=tf.float32, normalizer_fn=None),\n",
       " _NumericColumn(key='totalRooms', shape=(1,), default_value=None, dtype=tf.float32, normalizer_fn=None),\n",
       " _NumericColumn(key='totalBedrooms', shape=(1,), default_value=None, dtype=tf.float32, normalizer_fn=None),\n",
       " _NumericColumn(key='population', shape=(1,), default_value=None, dtype=tf.float32, normalizer_fn=None),\n",
       " _NumericColumn(key='households', shape=(1,), default_value=None, dtype=tf.float32, normalizer_fn=None),\n",
       " _NumericColumn(key='medianIncome', shape=(1,), default_value=None, dtype=tf.float32, normalizer_fn=None)]"
      ]
     },
     "execution_count": 18,
     "metadata": {},
     "output_type": "execute_result"
    }
   ],
   "source": [
    "feat_cols"
   ]
  },
  {
   "cell_type": "markdown",
   "metadata": {},
   "source": [
    "** Create the input function for the estimator object. (play around with batch_size and num_epochs)**"
   ]
  },
  {
   "cell_type": "code",
   "execution_count": 19,
   "metadata": {},
   "outputs": [],
   "source": [
    "input_func = tf.estimator.inputs.pandas_input_fn(x=f_train,y=l_train,batch_size=10,num_epochs=1000,shuffle=True)"
   ]
  },
  {
   "cell_type": "markdown",
   "metadata": {},
   "source": [
    "** Create the estimator model. Use a DNNRegressor. Play around with the hidden units! **"
   ]
  },
  {
   "cell_type": "code",
   "execution_count": 20,
   "metadata": {},
   "outputs": [
    {
     "name": "stdout",
     "output_type": "stream",
     "text": [
      "INFO:tensorflow:Using default config.\n",
      "WARNING:tensorflow:Using temporary folder as model directory: C:\\Users\\admin\\AppData\\Local\\Temp\\tmptee0gi2a\n",
      "INFO:tensorflow:Using config: {'_save_checkpoints_secs': 600, '_log_step_count_steps': 100, '_model_dir': 'C:\\\\Users\\\\admin\\\\AppData\\\\Local\\\\Temp\\\\tmptee0gi2a', '_tf_random_seed': 1, '_session_config': None, '_save_summary_steps': 100, '_keep_checkpoint_every_n_hours': 10000, '_keep_checkpoint_max': 5, '_save_checkpoints_steps': None}\n"
     ]
    }
   ],
   "source": [
    "model = tf.estimator.DNNRegressor(hidden_units=[6,6,6],feature_columns=feat_cols)"
   ]
  },
  {
   "cell_type": "markdown",
   "metadata": {},
   "source": [
    "##### ** Train the model for ~1,000 steps. (Later come back to this and train it for more and check for improvement) **"
   ]
  },
  {
   "cell_type": "code",
   "execution_count": 21,
   "metadata": {},
   "outputs": [
    {
     "name": "stdout",
     "output_type": "stream",
     "text": [
      "INFO:tensorflow:Create CheckpointSaverHook.\n",
      "INFO:tensorflow:Saving checkpoints for 1 into C:\\Users\\admin\\AppData\\Local\\Temp\\tmptee0gi2a\\model.ckpt.\n",
      "INFO:tensorflow:loss = 933672900000.0, step = 1\n",
      "INFO:tensorflow:global_step/sec: 342.952\n",
      "INFO:tensorflow:loss = 531459300000.0, step = 101 (0.282 sec)\n",
      "INFO:tensorflow:global_step/sec: 444.696\n",
      "INFO:tensorflow:loss = 498632300000.0, step = 201 (0.232 sec)\n",
      "INFO:tensorflow:global_step/sec: 456.886\n",
      "INFO:tensorflow:loss = 899224000000.0, step = 301 (0.215 sec)\n",
      "INFO:tensorflow:global_step/sec: 410.07\n",
      "INFO:tensorflow:loss = 245402730000.0, step = 401 (0.244 sec)\n",
      "INFO:tensorflow:global_step/sec: 483.368\n",
      "INFO:tensorflow:loss = 218898990000.0, step = 501 (0.215 sec)\n",
      "INFO:tensorflow:global_step/sec: 333.524\n",
      "INFO:tensorflow:loss = 217206130000.0, step = 601 (0.292 sec)\n",
      "INFO:tensorflow:global_step/sec: 418.65\n",
      "INFO:tensorflow:loss = 512498000000.0, step = 701 (0.236 sec)\n",
      "INFO:tensorflow:global_step/sec: 463.228\n",
      "INFO:tensorflow:loss = 326928470000.0, step = 801 (0.218 sec)\n",
      "INFO:tensorflow:global_step/sec: 488.086\n",
      "INFO:tensorflow:loss = 466658750000.0, step = 901 (0.209 sec)\n",
      "INFO:tensorflow:global_step/sec: 446.68\n",
      "INFO:tensorflow:loss = 311774770000.0, step = 1001 (0.222 sec)\n",
      "INFO:tensorflow:global_step/sec: 448.691\n",
      "INFO:tensorflow:loss = 260171200000.0, step = 1101 (0.222 sec)\n",
      "INFO:tensorflow:global_step/sec: 467.557\n",
      "INFO:tensorflow:loss = 240773370000.0, step = 1201 (0.216 sec)\n",
      "INFO:tensorflow:global_step/sec: 357.346\n",
      "INFO:tensorflow:loss = 425419470000.0, step = 1301 (0.278 sec)\n",
      "INFO:tensorflow:global_step/sec: 436.931\n",
      "INFO:tensorflow:loss = 274979500000.0, step = 1401 (0.230 sec)\n",
      "INFO:tensorflow:global_step/sec: 476.464\n",
      "INFO:tensorflow:loss = 191202100000.0, step = 1501 (0.209 sec)\n",
      "INFO:tensorflow:global_step/sec: 452.749\n",
      "INFO:tensorflow:loss = 87812780000.0, step = 1601 (0.221 sec)\n",
      "INFO:tensorflow:global_step/sec: 440.778\n",
      "INFO:tensorflow:loss = 172448120000.0, step = 1701 (0.225 sec)\n",
      "INFO:tensorflow:global_step/sec: 471.968\n",
      "INFO:tensorflow:loss = 150251880000.0, step = 1801 (0.217 sec)\n",
      "INFO:tensorflow:global_step/sec: 415.177\n",
      "INFO:tensorflow:loss = 185263370000.0, step = 1901 (0.241 sec)\n",
      "INFO:tensorflow:global_step/sec: 411.744\n",
      "INFO:tensorflow:loss = 24634946000.0, step = 2001 (0.238 sec)\n",
      "INFO:tensorflow:global_step/sec: 465.399\n",
      "INFO:tensorflow:loss = 133949710000.0, step = 2101 (0.217 sec)\n",
      "INFO:tensorflow:global_step/sec: 446.684\n",
      "INFO:tensorflow:loss = 52130697000.0, step = 2201 (0.224 sec)\n",
      "INFO:tensorflow:global_step/sec: 387.819\n",
      "INFO:tensorflow:loss = 157327700000.0, step = 2301 (0.259 sec)\n",
      "INFO:tensorflow:global_step/sec: 474.208\n",
      "INFO:tensorflow:loss = 74146185000.0, step = 2401 (0.215 sec)\n",
      "INFO:tensorflow:global_step/sec: 436.929\n",
      "INFO:tensorflow:loss = 85672220000.0, step = 2501 (0.224 sec)\n",
      "INFO:tensorflow:global_step/sec: 476.467\n",
      "INFO:tensorflow:loss = 60726240000.0, step = 2601 (0.211 sec)\n",
      "INFO:tensorflow:global_step/sec: 461.091\n",
      "INFO:tensorflow:loss = 53095220000.0, step = 2701 (0.216 sec)\n",
      "INFO:tensorflow:global_step/sec: 429.43\n",
      "INFO:tensorflow:loss = 160681230000.0, step = 2801 (0.234 sec)\n",
      "INFO:tensorflow:global_step/sec: 379.005\n",
      "INFO:tensorflow:loss = 71632630000.0, step = 2901 (0.263 sec)\n",
      "INFO:tensorflow:global_step/sec: 440.779\n",
      "INFO:tensorflow:loss = 64902152000.0, step = 3001 (0.225 sec)\n",
      "INFO:tensorflow:global_step/sec: 476.465\n",
      "INFO:tensorflow:loss = 60091000000.0, step = 3101 (0.212 sec)\n",
      "INFO:tensorflow:global_step/sec: 374.746\n",
      "INFO:tensorflow:loss = 105158754000.0, step = 3201 (0.269 sec)\n",
      "INFO:tensorflow:global_step/sec: 448.689\n",
      "INFO:tensorflow:loss = 58739320000.0, step = 3301 (0.222 sec)\n",
      "INFO:tensorflow:global_step/sec: 471.965\n",
      "INFO:tensorflow:loss = 81548140000.0, step = 3401 (0.220 sec)\n",
      "INFO:tensorflow:global_step/sec: 397.053\n",
      "INFO:tensorflow:loss = 92886940000.0, step = 3501 (0.248 sec)\n",
      "INFO:tensorflow:global_step/sec: 397.053\n",
      "INFO:tensorflow:loss = 67187130000.0, step = 3601 (0.248 sec)\n",
      "INFO:tensorflow:global_step/sec: 456.881\n",
      "INFO:tensorflow:loss = 162486200000.0, step = 3701 (0.217 sec)\n",
      "INFO:tensorflow:global_step/sec: 467.556\n",
      "INFO:tensorflow:loss = 33861749000.0, step = 3801 (0.219 sec)\n",
      "INFO:tensorflow:global_step/sec: 448.689\n",
      "INFO:tensorflow:loss = 101431080000.0, step = 3901 (0.225 sec)\n",
      "INFO:tensorflow:global_step/sec: 440.781\n",
      "INFO:tensorflow:loss = 42609025000.0, step = 4001 (0.223 sec)\n",
      "INFO:tensorflow:global_step/sec: 469.75\n",
      "INFO:tensorflow:loss = 32396874000.0, step = 4101 (0.214 sec)\n",
      "INFO:tensorflow:global_step/sec: 403.458\n",
      "INFO:tensorflow:loss = 153085430000.0, step = 4201 (0.244 sec)\n",
      "INFO:tensorflow:global_step/sec: 381.896\n",
      "INFO:tensorflow:loss = 74799670000.0, step = 4301 (0.267 sec)\n",
      "INFO:tensorflow:global_step/sec: 433.151\n",
      "INFO:tensorflow:loss = 27952759000.0, step = 4401 (0.225 sec)\n",
      "INFO:tensorflow:global_step/sec: 469.748\n",
      "INFO:tensorflow:loss = 127657394000.0, step = 4501 (0.214 sec)\n",
      "INFO:tensorflow:global_step/sec: 478.745\n",
      "INFO:tensorflow:loss = 144670260000.0, step = 4601 (0.216 sec)\n",
      "INFO:tensorflow:global_step/sec: 416.904\n",
      "INFO:tensorflow:loss = 194762380000.0, step = 4701 (0.237 sec)\n",
      "INFO:tensorflow:global_step/sec: 454.806\n",
      "INFO:tensorflow:loss = 88825480000.0, step = 4801 (0.219 sec)\n",
      "INFO:tensorflow:global_step/sec: 450.711\n",
      "INFO:tensorflow:loss = 127414220000.0, step = 4901 (0.216 sec)\n",
      "INFO:tensorflow:global_step/sec: 467.555\n",
      "INFO:tensorflow:loss = 110410730000.0, step = 5001 (0.216 sec)\n",
      "INFO:tensorflow:global_step/sec: 377.573\n",
      "INFO:tensorflow:loss = 120279110000.0, step = 5101 (0.267 sec)\n",
      "INFO:tensorflow:global_step/sec: 433.15\n",
      "INFO:tensorflow:loss = 60734360000.0, step = 5201 (0.231 sec)\n",
      "INFO:tensorflow:global_step/sec: 446.687\n",
      "INFO:tensorflow:loss = 87756685000.0, step = 5301 (0.224 sec)\n",
      "INFO:tensorflow:global_step/sec: 461.092\n",
      "INFO:tensorflow:loss = 72235580000.0, step = 5401 (0.216 sec)\n",
      "INFO:tensorflow:global_step/sec: 456.881\n",
      "INFO:tensorflow:loss = 205122060000.0, step = 5501 (0.222 sec)\n",
      "INFO:tensorflow:global_step/sec: 490.476\n",
      "INFO:tensorflow:loss = 153730560000.0, step = 5601 (0.202 sec)\n",
      "INFO:tensorflow:global_step/sec: 440.784\n",
      "INFO:tensorflow:loss = 96534634000.0, step = 5701 (0.230 sec)\n",
      "INFO:tensorflow:global_step/sec: 267.531\n",
      "INFO:tensorflow:loss = 98005010000.0, step = 5801 (0.380 sec)\n",
      "INFO:tensorflow:global_step/sec: 384.836\n",
      "INFO:tensorflow:loss = 53666920000.0, step = 5901 (0.249 sec)\n",
      "INFO:tensorflow:global_step/sec: 342.663\n",
      "INFO:tensorflow:loss = 73629400000.0, step = 6001 (0.293 sec)\n",
      "INFO:tensorflow:global_step/sec: 418.648\n",
      "INFO:tensorflow:loss = 41354007000.0, step = 6101 (0.243 sec)\n",
      "INFO:tensorflow:global_step/sec: 423.971\n",
      "INFO:tensorflow:loss = 147096170000.0, step = 6201 (0.238 sec)\n",
      "INFO:tensorflow:global_step/sec: 367.858\n",
      "INFO:tensorflow:loss = 78754775000.0, step = 6301 (0.267 sec)\n",
      "INFO:tensorflow:global_step/sec: 497.799\n",
      "INFO:tensorflow:loss = 82372920000.0, step = 6401 (0.202 sec)\n",
      "INFO:tensorflow:global_step/sec: 345.023\n",
      "INFO:tensorflow:loss = 103663150000.0, step = 6501 (0.284 sec)\n",
      "INFO:tensorflow:global_step/sec: 502.804\n",
      "INFO:tensorflow:loss = 38194127000.0, step = 6601 (0.209 sec)\n",
      "INFO:tensorflow:global_step/sec: 366.507\n",
      "INFO:tensorflow:loss = 48148468000.0, step = 6701 (0.273 sec)\n",
      "INFO:tensorflow:global_step/sec: 481.05\n",
      "INFO:tensorflow:loss = 71149830000.0, step = 6801 (0.203 sec)\n",
      "INFO:tensorflow:global_step/sec: 415.174\n",
      "INFO:tensorflow:loss = 84350845000.0, step = 6901 (0.246 sec)\n",
      "INFO:tensorflow:global_step/sec: 393.927\n",
      "INFO:tensorflow:loss = 65764370000.0, step = 7001 (0.250 sec)\n",
      "INFO:tensorflow:global_step/sec: 469.752\n",
      "INFO:tensorflow:loss = 149664320000.0, step = 7101 (0.213 sec)\n",
      "INFO:tensorflow:global_step/sec: 461.094\n",
      "INFO:tensorflow:loss = 271853290000.0, step = 7201 (0.214 sec)\n",
      "INFO:tensorflow:global_step/sec: 497.794\n",
      "INFO:tensorflow:loss = 65930658000.0, step = 7301 (0.206 sec)\n",
      "INFO:tensorflow:global_step/sec: 328.057\n",
      "INFO:tensorflow:loss = 51518240000.0, step = 7401 (0.307 sec)\n",
      "INFO:tensorflow:global_step/sec: 416.906\n",
      "INFO:tensorflow:loss = 104452130000.0, step = 7501 (0.234 sec)\n",
      "INFO:tensorflow:global_step/sec: 461.092\n",
      "INFO:tensorflow:loss = 96156170000.0, step = 7601 (0.221 sec)\n",
      "INFO:tensorflow:global_step/sec: 454.806\n",
      "INFO:tensorflow:loss = 87817680000.0, step = 7701 (0.218 sec)\n",
      "INFO:tensorflow:global_step/sec: 398.635\n",
      "INFO:tensorflow:loss = 90822320000.0, step = 7801 (0.254 sec)\n"
     ]
    },
    {
     "name": "stdout",
     "output_type": "stream",
     "text": [
      "INFO:tensorflow:global_step/sec: 418.647\n",
      "INFO:tensorflow:loss = 108937600000.0, step = 7901 (0.233 sec)\n",
      "INFO:tensorflow:global_step/sec: 502.803\n",
      "INFO:tensorflow:loss = 99848230000.0, step = 8001 (0.200 sec)\n",
      "INFO:tensorflow:global_step/sec: 483.368\n",
      "INFO:tensorflow:loss = 53969396000.0, step = 8101 (0.209 sec)\n",
      "INFO:tensorflow:global_step/sec: 461.093\n",
      "INFO:tensorflow:loss = 131157926000.0, step = 8201 (0.217 sec)\n",
      "INFO:tensorflow:global_step/sec: 497.795\n",
      "INFO:tensorflow:loss = 38307422000.0, step = 8301 (0.200 sec)\n",
      "INFO:tensorflow:global_step/sec: 497.801\n",
      "INFO:tensorflow:loss = 141133900000.0, step = 8401 (0.201 sec)\n",
      "INFO:tensorflow:global_step/sec: 507.903\n",
      "INFO:tensorflow:loss = 60718800000.0, step = 8501 (0.197 sec)\n",
      "INFO:tensorflow:global_step/sec: 474.205\n",
      "INFO:tensorflow:loss = 85870076000.0, step = 8601 (0.217 sec)\n",
      "INFO:tensorflow:global_step/sec: 397.05\n",
      "INFO:tensorflow:loss = 74945120000.0, step = 8701 (0.245 sec)\n",
      "INFO:tensorflow:global_step/sec: 467.56\n",
      "INFO:tensorflow:loss = 120732700000.0, step = 8801 (0.216 sec)\n",
      "INFO:tensorflow:global_step/sec: 478.742\n",
      "INFO:tensorflow:loss = 77806650000.0, step = 8901 (0.208 sec)\n",
      "INFO:tensorflow:global_step/sec: 505.338\n",
      "INFO:tensorflow:loss = 178211770000.0, step = 9001 (0.198 sec)\n",
      "INFO:tensorflow:global_step/sec: 478.745\n",
      "INFO:tensorflow:loss = 67439340000.0, step = 9101 (0.211 sec)\n",
      "INFO:tensorflow:global_step/sec: 469.752\n",
      "INFO:tensorflow:loss = 56883580000.0, step = 9201 (0.215 sec)\n",
      "INFO:tensorflow:global_step/sec: 461.093\n",
      "INFO:tensorflow:loss = 99722380000.0, step = 9301 (0.213 sec)\n",
      "INFO:tensorflow:global_step/sec: 387.819\n",
      "INFO:tensorflow:loss = 180479380000.0, step = 9401 (0.256 sec)\n",
      "INFO:tensorflow:global_step/sec: 425.775\n",
      "INFO:tensorflow:loss = 140412860000.0, step = 9501 (0.242 sec)\n",
      "INFO:tensorflow:global_step/sec: 379.006\n",
      "INFO:tensorflow:loss = 118577790000.0, step = 9601 (0.255 sec)\n",
      "INFO:tensorflow:global_step/sec: 365.171\n",
      "INFO:tensorflow:loss = 52903244000.0, step = 9701 (0.275 sec)\n",
      "INFO:tensorflow:global_step/sec: 411.759\n",
      "INFO:tensorflow:loss = 89717840000.0, step = 9801 (0.248 sec)\n",
      "INFO:tensorflow:global_step/sec: 369.215\n",
      "INFO:tensorflow:loss = 57351692000.0, step = 9901 (0.272 sec)\n",
      "INFO:tensorflow:global_step/sec: 420.408\n",
      "INFO:tensorflow:loss = 34229199000.0, step = 10001 (0.236 sec)\n",
      "INFO:tensorflow:global_step/sec: 435.032\n",
      "INFO:tensorflow:loss = 130575245000.0, step = 10101 (0.234 sec)\n",
      "INFO:tensorflow:global_step/sec: 446.683\n",
      "INFO:tensorflow:loss = 184861870000.0, step = 10201 (0.220 sec)\n",
      "INFO:tensorflow:global_step/sec: 403.459\n",
      "INFO:tensorflow:loss = 32417716000.0, step = 10301 (0.244 sec)\n",
      "INFO:tensorflow:global_step/sec: 416.901\n",
      "INFO:tensorflow:loss = 79541660000.0, step = 10401 (0.243 sec)\n",
      "INFO:tensorflow:global_step/sec: 415.178\n",
      "INFO:tensorflow:loss = 63429042000.0, step = 10501 (0.241 sec)\n",
      "INFO:tensorflow:global_step/sec: 461.09\n",
      "INFO:tensorflow:loss = 197190520000.0, step = 10601 (0.223 sec)\n",
      "INFO:tensorflow:global_step/sec: 442.733\n",
      "INFO:tensorflow:loss = 112898450000.0, step = 10701 (0.224 sec)\n",
      "INFO:tensorflow:global_step/sec: 485.714\n",
      "INFO:tensorflow:loss = 147681790000.0, step = 10801 (0.202 sec)\n",
      "INFO:tensorflow:global_step/sec: 471.968\n",
      "INFO:tensorflow:loss = 121492414000.0, step = 10901 (0.213 sec)\n",
      "INFO:tensorflow:global_step/sec: 471.968\n",
      "INFO:tensorflow:loss = 219857780000.0, step = 11001 (0.211 sec)\n",
      "INFO:tensorflow:global_step/sec: 495.331\n",
      "INFO:tensorflow:loss = 51504554000.0, step = 11101 (0.209 sec)\n",
      "INFO:tensorflow:global_step/sec: 476.462\n",
      "INFO:tensorflow:loss = 143686370000.0, step = 11201 (0.203 sec)\n",
      "INFO:tensorflow:global_step/sec: 500.285\n",
      "INFO:tensorflow:loss = 85491530000.0, step = 11301 (0.199 sec)\n",
      "INFO:tensorflow:global_step/sec: 456.886\n",
      "INFO:tensorflow:loss = 75684480000.0, step = 11401 (0.217 sec)\n",
      "INFO:tensorflow:global_step/sec: 483.368\n",
      "INFO:tensorflow:loss = 94627110000.0, step = 11501 (0.213 sec)\n",
      "INFO:tensorflow:global_step/sec: 476.461\n",
      "INFO:tensorflow:loss = 61320610000.0, step = 11601 (0.208 sec)\n",
      "INFO:tensorflow:global_step/sec: 481.045\n",
      "INFO:tensorflow:loss = 106184850000.0, step = 11701 (0.204 sec)\n",
      "INFO:tensorflow:global_step/sec: 490.475\n",
      "INFO:tensorflow:loss = 70985466000.0, step = 11801 (0.207 sec)\n",
      "INFO:tensorflow:global_step/sec: 483.368\n",
      "INFO:tensorflow:loss = 89099670000.0, step = 11901 (0.213 sec)\n",
      "INFO:tensorflow:global_step/sec: 456.885\n",
      "INFO:tensorflow:loss = 86726420000.0, step = 12001 (0.213 sec)\n",
      "INFO:tensorflow:global_step/sec: 452.745\n",
      "INFO:tensorflow:loss = 21678967000.0, step = 12101 (0.224 sec)\n",
      "INFO:tensorflow:global_step/sec: 476.465\n",
      "INFO:tensorflow:loss = 94404730000.0, step = 12201 (0.210 sec)\n",
      "INFO:tensorflow:global_step/sec: 444.699\n",
      "INFO:tensorflow:loss = 81939210000.0, step = 12301 (0.220 sec)\n",
      "INFO:tensorflow:global_step/sec: 495.333\n",
      "INFO:tensorflow:loss = 119249010000.0, step = 12401 (0.210 sec)\n",
      "INFO:tensorflow:global_step/sec: 446.685\n",
      "INFO:tensorflow:loss = 70743060000.0, step = 12501 (0.219 sec)\n",
      "INFO:tensorflow:global_step/sec: 463.224\n",
      "INFO:tensorflow:loss = 53536060000.0, step = 12601 (0.215 sec)\n",
      "INFO:tensorflow:global_step/sec: 467.559\n",
      "INFO:tensorflow:loss = 139419570000.0, step = 12701 (0.214 sec)\n",
      "INFO:tensorflow:global_step/sec: 436.933\n",
      "INFO:tensorflow:loss = 144703500000.0, step = 12801 (0.228 sec)\n",
      "INFO:tensorflow:global_step/sec: 478.739\n",
      "INFO:tensorflow:loss = 72892826000.0, step = 12901 (0.208 sec)\n",
      "INFO:tensorflow:global_step/sec: 435.033\n",
      "INFO:tensorflow:loss = 221992580000.0, step = 13001 (0.230 sec)\n",
      "INFO:tensorflow:global_step/sec: 490.478\n",
      "INFO:tensorflow:loss = 48133108000.0, step = 13101 (0.214 sec)\n",
      "INFO:tensorflow:global_step/sec: 440.78\n",
      "INFO:tensorflow:loss = 138287780000.0, step = 13201 (0.220 sec)\n",
      "INFO:tensorflow:global_step/sec: 415.175\n",
      "INFO:tensorflow:loss = 66820250000.0, step = 13301 (0.237 sec)\n",
      "INFO:tensorflow:global_step/sec: 383.361\n",
      "INFO:tensorflow:loss = 101111325000.0, step = 13401 (0.266 sec)\n",
      "INFO:tensorflow:global_step/sec: 321.727\n",
      "INFO:tensorflow:loss = 81275830000.0, step = 13501 (0.314 sec)\n",
      "INFO:tensorflow:global_step/sec: 429.43\n",
      "INFO:tensorflow:loss = 120530420000.0, step = 13601 (0.226 sec)\n",
      "INFO:tensorflow:global_step/sec: 405.091\n",
      "INFO:tensorflow:loss = 98038964000.0, step = 13701 (0.247 sec)\n",
      "INFO:tensorflow:global_step/sec: 323.809\n",
      "INFO:tensorflow:loss = 166532120000.0, step = 13801 (0.310 sec)\n",
      "INFO:tensorflow:global_step/sec: 469.753\n",
      "INFO:tensorflow:loss = 98720480000.0, step = 13901 (0.222 sec)\n",
      "INFO:tensorflow:global_step/sec: 458.979\n",
      "INFO:tensorflow:loss = 115742090000.0, step = 14001 (0.208 sec)\n",
      "INFO:tensorflow:global_step/sec: 485.714\n",
      "INFO:tensorflow:loss = 44693720000.0, step = 14101 (0.209 sec)\n",
      "INFO:tensorflow:global_step/sec: 463.228\n",
      "INFO:tensorflow:loss = 36269510000.0, step = 14201 (0.221 sec)\n",
      "INFO:tensorflow:global_step/sec: 481.046\n",
      "INFO:tensorflow:loss = 70394405000.0, step = 14301 (0.202 sec)\n",
      "INFO:tensorflow:global_step/sec: 476.46\n",
      "INFO:tensorflow:loss = 174106020000.0, step = 14401 (0.242 sec)\n",
      "INFO:tensorflow:global_step/sec: 406.608\n",
      "INFO:tensorflow:loss = 97140250000.0, step = 14501 (0.211 sec)\n",
      "INFO:tensorflow:global_step/sec: 500.29\n",
      "INFO:tensorflow:loss = 29044636000.0, step = 14601 (0.206 sec)\n",
      "INFO:tensorflow:global_step/sec: 488.082\n",
      "INFO:tensorflow:loss = 221933420000.0, step = 14701 (0.202 sec)\n",
      "INFO:tensorflow:global_step/sec: 381.899\n",
      "INFO:tensorflow:loss = 71608060000.0, step = 14801 (0.262 sec)\n",
      "INFO:tensorflow:global_step/sec: 454.809\n",
      "INFO:tensorflow:loss = 60681820000.0, step = 14901 (0.220 sec)\n",
      "INFO:tensorflow:global_step/sec: 359.916\n",
      "INFO:tensorflow:loss = 96117340000.0, step = 15001 (0.282 sec)\n",
      "INFO:tensorflow:global_step/sec: 330.223\n",
      "INFO:tensorflow:loss = 73914720000.0, step = 15101 (0.299 sec)\n",
      "INFO:tensorflow:global_step/sec: 452.748\n",
      "INFO:tensorflow:loss = 53656146000.0, step = 15201 (0.222 sec)\n",
      "INFO:tensorflow:global_step/sec: 474.201\n",
      "INFO:tensorflow:loss = 31276284000.0, step = 15301 (0.215 sec)\n",
      "INFO:tensorflow:global_step/sec: 465.383\n",
      "INFO:tensorflow:loss = 96428800000.0, step = 15401 (0.212 sec)\n",
      "INFO:tensorflow:global_step/sec: 379.006\n",
      "INFO:tensorflow:loss = 161379750000.0, step = 15501 (0.262 sec)\n",
      "INFO:tensorflow:global_step/sec: 450.707\n",
      "INFO:tensorflow:loss = 33655690000.0, step = 15601 (0.224 sec)\n",
      "INFO:tensorflow:global_step/sec: 335.763\n",
      "INFO:tensorflow:loss = 71526695000.0, step = 15701 (0.295 sec)\n"
     ]
    },
    {
     "name": "stdout",
     "output_type": "stream",
     "text": [
      "INFO:tensorflow:global_step/sec: 476.461\n",
      "INFO:tensorflow:loss = 108996190000.0, step = 15801 (0.215 sec)\n",
      "INFO:tensorflow:global_step/sec: 485.717\n",
      "INFO:tensorflow:loss = 120853010000.0, step = 15901 (0.204 sec)\n",
      "INFO:tensorflow:global_step/sec: 507.899\n",
      "INFO:tensorflow:loss = 215448100000.0, step = 16001 (0.194 sec)\n",
      "INFO:tensorflow:global_step/sec: 515.763\n",
      "INFO:tensorflow:loss = 91094940000.0, step = 16101 (0.198 sec)\n",
      "INFO:tensorflow:global_step/sec: 488.079\n",
      "INFO:tensorflow:loss = 134462630000.0, step = 16201 (0.205 sec)\n",
      "INFO:tensorflow:global_step/sec: 502.804\n",
      "INFO:tensorflow:loss = 45356134000.0, step = 16301 (0.197 sec)\n",
      "INFO:tensorflow:global_step/sec: 435.031\n",
      "INFO:tensorflow:loss = 216268490000.0, step = 16401 (0.228 sec)\n",
      "INFO:tensorflow:global_step/sec: 456.882\n",
      "INFO:tensorflow:loss = 89064730000.0, step = 16501 (0.220 sec)\n",
      "INFO:tensorflow:global_step/sec: 365.171\n",
      "INFO:tensorflow:loss = 78299480000.0, step = 16601 (0.272 sec)\n",
      "INFO:tensorflow:global_step/sec: 444.701\n",
      "INFO:tensorflow:loss = 138571040000.0, step = 16701 (0.228 sec)\n",
      "INFO:tensorflow:global_step/sec: 452.747\n",
      "INFO:tensorflow:loss = 56043860000.0, step = 16801 (0.220 sec)\n",
      "INFO:tensorflow:global_step/sec: 461.095\n",
      "INFO:tensorflow:loss = 181388950000.0, step = 16901 (0.217 sec)\n",
      "INFO:tensorflow:global_step/sec: 444.698\n",
      "INFO:tensorflow:loss = 26349056000.0, step = 17001 (0.224 sec)\n",
      "INFO:tensorflow:global_step/sec: 492.893\n",
      "INFO:tensorflow:loss = 106043950000.0, step = 17101 (0.206 sec)\n",
      "INFO:tensorflow:global_step/sec: 490.474\n",
      "INFO:tensorflow:loss = 62706230000.0, step = 17201 (0.204 sec)\n",
      "INFO:tensorflow:global_step/sec: 483.371\n",
      "INFO:tensorflow:loss = 83344990000.0, step = 17301 (0.209 sec)\n",
      "INFO:tensorflow:global_step/sec: 485.717\n",
      "INFO:tensorflow:loss = 51272253000.0, step = 17401 (0.203 sec)\n",
      "INFO:tensorflow:global_step/sec: 469.753\n",
      "INFO:tensorflow:loss = 94606360000.0, step = 17501 (0.210 sec)\n",
      "INFO:tensorflow:global_step/sec: 500.283\n",
      "INFO:tensorflow:loss = 81413490000.0, step = 17601 (0.203 sec)\n",
      "INFO:tensorflow:global_step/sec: 471.968\n",
      "INFO:tensorflow:loss = 105421420000.0, step = 17701 (0.214 sec)\n",
      "INFO:tensorflow:global_step/sec: 465.382\n",
      "INFO:tensorflow:loss = 77662300000.0, step = 17801 (0.211 sec)\n",
      "INFO:tensorflow:global_step/sec: 488.081\n",
      "INFO:tensorflow:loss = 45799710000.0, step = 17901 (0.206 sec)\n",
      "INFO:tensorflow:global_step/sec: 492.896\n",
      "INFO:tensorflow:loss = 85458410000.0, step = 18001 (0.208 sec)\n",
      "INFO:tensorflow:global_step/sec: 485.716\n",
      "INFO:tensorflow:loss = 98788140000.0, step = 18101 (0.206 sec)\n",
      "INFO:tensorflow:global_step/sec: 478.743\n",
      "INFO:tensorflow:loss = 134270770000.0, step = 18201 (0.204 sec)\n",
      "INFO:tensorflow:global_step/sec: 483.363\n",
      "INFO:tensorflow:loss = 55125176000.0, step = 18301 (0.208 sec)\n",
      "INFO:tensorflow:global_step/sec: 467.563\n",
      "INFO:tensorflow:loss = 160025120000.0, step = 18401 (0.214 sec)\n",
      "INFO:tensorflow:global_step/sec: 485.71\n",
      "INFO:tensorflow:loss = 45320070000.0, step = 18501 (0.205 sec)\n",
      "INFO:tensorflow:global_step/sec: 485.718\n",
      "INFO:tensorflow:loss = 123144140000.0, step = 18601 (0.208 sec)\n",
      "INFO:tensorflow:global_step/sec: 478.738\n",
      "INFO:tensorflow:loss = 60067746000.0, step = 18701 (0.209 sec)\n",
      "INFO:tensorflow:global_step/sec: 481.049\n",
      "INFO:tensorflow:loss = 27925963000.0, step = 18801 (0.206 sec)\n",
      "INFO:tensorflow:global_step/sec: 500.284\n",
      "INFO:tensorflow:loss = 96766930000.0, step = 18901 (0.204 sec)\n",
      "INFO:tensorflow:global_step/sec: 454.808\n",
      "INFO:tensorflow:loss = 115508470000.0, step = 19001 (0.215 sec)\n",
      "INFO:tensorflow:global_step/sec: 495.333\n",
      "INFO:tensorflow:loss = 105430120000.0, step = 19101 (0.211 sec)\n",
      "INFO:tensorflow:global_step/sec: 452.746\n",
      "INFO:tensorflow:loss = 89990390000.0, step = 19201 (0.210 sec)\n",
      "INFO:tensorflow:global_step/sec: 476.465\n",
      "INFO:tensorflow:loss = 185182160000.0, step = 19301 (0.214 sec)\n",
      "INFO:tensorflow:global_step/sec: 471.966\n",
      "INFO:tensorflow:loss = 157184200000.0, step = 19401 (0.213 sec)\n",
      "INFO:tensorflow:global_step/sec: 463.229\n",
      "INFO:tensorflow:loss = 43956040000.0, step = 19501 (0.214 sec)\n",
      "INFO:tensorflow:global_step/sec: 488.085\n",
      "INFO:tensorflow:loss = 63330185000.0, step = 19601 (0.209 sec)\n",
      "INFO:tensorflow:global_step/sec: 463.228\n",
      "INFO:tensorflow:loss = 56809280000.0, step = 19701 (0.214 sec)\n",
      "INFO:tensorflow:global_step/sec: 458.974\n",
      "INFO:tensorflow:loss = 25581898000.0, step = 19801 (0.214 sec)\n",
      "INFO:tensorflow:global_step/sec: 485.719\n",
      "INFO:tensorflow:loss = 85063560000.0, step = 19901 (0.213 sec)\n",
      "INFO:tensorflow:global_step/sec: 467.557\n",
      "INFO:tensorflow:loss = 69296650000.0, step = 20001 (0.212 sec)\n",
      "INFO:tensorflow:global_step/sec: 467.557\n",
      "INFO:tensorflow:loss = 124211266000.0, step = 20101 (0.210 sec)\n",
      "INFO:tensorflow:global_step/sec: 485.712\n",
      "INFO:tensorflow:loss = 88079640000.0, step = 20201 (0.214 sec)\n",
      "INFO:tensorflow:global_step/sec: 454.806\n",
      "INFO:tensorflow:loss = 43323556000.0, step = 20301 (0.211 sec)\n",
      "INFO:tensorflow:global_step/sec: 469.748\n",
      "INFO:tensorflow:loss = 56326780000.0, step = 20401 (0.215 sec)\n",
      "INFO:tensorflow:global_step/sec: 481.051\n",
      "INFO:tensorflow:loss = 65718990000.0, step = 20501 (0.213 sec)\n",
      "INFO:tensorflow:global_step/sec: 448.687\n",
      "INFO:tensorflow:loss = 73683570000.0, step = 20601 (0.218 sec)\n",
      "INFO:tensorflow:global_step/sec: 483.364\n",
      "INFO:tensorflow:loss = 177152490000.0, step = 20701 (0.210 sec)\n",
      "INFO:tensorflow:global_step/sec: 463.228\n",
      "INFO:tensorflow:loss = 152499130000.0, step = 20801 (0.217 sec)\n",
      "INFO:tensorflow:global_step/sec: 471.973\n",
      "INFO:tensorflow:loss = 190697570000.0, step = 20901 (0.212 sec)\n",
      "INFO:tensorflow:global_step/sec: 465.379\n",
      "INFO:tensorflow:loss = 59849130000.0, step = 21001 (0.211 sec)\n",
      "INFO:tensorflow:global_step/sec: 454.809\n",
      "INFO:tensorflow:loss = 113895690000.0, step = 21101 (0.221 sec)\n",
      "INFO:tensorflow:global_step/sec: 474.202\n",
      "INFO:tensorflow:loss = 71583050000.0, step = 21201 (0.212 sec)\n",
      "INFO:tensorflow:global_step/sec: 476.46\n",
      "INFO:tensorflow:loss = 56281084000.0, step = 21301 (0.213 sec)\n",
      "INFO:tensorflow:global_step/sec: 467.562\n",
      "INFO:tensorflow:loss = 98566955000.0, step = 21401 (0.213 sec)\n",
      "INFO:tensorflow:global_step/sec: 442.726\n",
      "INFO:tensorflow:loss = 112474660000.0, step = 21501 (0.219 sec)\n",
      "INFO:tensorflow:global_step/sec: 463.232\n",
      "INFO:tensorflow:loss = 155817210000.0, step = 21601 (0.217 sec)\n",
      "INFO:tensorflow:global_step/sec: 463.23\n",
      "INFO:tensorflow:loss = 140065550000.0, step = 21701 (0.218 sec)\n",
      "INFO:tensorflow:global_step/sec: 471.968\n",
      "INFO:tensorflow:loss = 146067600000.0, step = 21801 (0.213 sec)\n",
      "INFO:tensorflow:global_step/sec: 458.974\n",
      "INFO:tensorflow:loss = 197866980000.0, step = 21901 (0.217 sec)\n",
      "INFO:tensorflow:global_step/sec: 476.466\n",
      "INFO:tensorflow:loss = 94099190000.0, step = 22001 (0.210 sec)\n",
      "INFO:tensorflow:global_step/sec: 483.368\n",
      "INFO:tensorflow:loss = 62573870000.0, step = 22101 (0.212 sec)\n",
      "INFO:tensorflow:global_step/sec: 461.092\n",
      "INFO:tensorflow:loss = 76057540000.0, step = 22201 (0.214 sec)\n",
      "INFO:tensorflow:global_step/sec: 456.88\n",
      "INFO:tensorflow:loss = 140387930000.0, step = 22301 (0.219 sec)\n",
      "INFO:tensorflow:global_step/sec: 463.234\n",
      "INFO:tensorflow:loss = 27728712000.0, step = 22401 (0.217 sec)\n",
      "INFO:tensorflow:global_step/sec: 454.801\n",
      "INFO:tensorflow:loss = 77287050000.0, step = 22501 (0.219 sec)\n",
      "INFO:tensorflow:global_step/sec: 408.396\n",
      "INFO:tensorflow:loss = 157953690000.0, step = 22601 (0.241 sec)\n",
      "INFO:tensorflow:global_step/sec: 384.838\n",
      "INFO:tensorflow:loss = 41350734000.0, step = 22701 (0.262 sec)\n",
      "INFO:tensorflow:global_step/sec: 471.965\n",
      "INFO:tensorflow:loss = 64991556000.0, step = 22801 (0.212 sec)\n",
      "INFO:tensorflow:global_step/sec: 389.33\n",
      "INFO:tensorflow:loss = 147381400000.0, step = 22901 (0.259 sec)\n",
      "INFO:tensorflow:global_step/sec: 442.73\n",
      "INFO:tensorflow:loss = 73980120000.0, step = 23001 (0.225 sec)\n",
      "INFO:tensorflow:global_step/sec: 461.093\n",
      "INFO:tensorflow:loss = 94115830000.0, step = 23101 (0.216 sec)\n",
      "INFO:tensorflow:global_step/sec: 376.157\n",
      "INFO:tensorflow:loss = 38243434000.0, step = 23201 (0.266 sec)\n",
      "INFO:tensorflow:global_step/sec: 410.07\n",
      "INFO:tensorflow:loss = 119427990000.0, step = 23301 (0.243 sec)\n",
      "INFO:tensorflow:global_step/sec: 492.894\n",
      "INFO:tensorflow:loss = 59819954000.0, step = 23401 (0.208 sec)\n",
      "INFO:tensorflow:global_step/sec: 408.397\n",
      "INFO:tensorflow:loss = 128209780000.0, step = 23501 (0.243 sec)\n",
      "INFO:tensorflow:global_step/sec: 406.737\n",
      "INFO:tensorflow:loss = 41192350000.0, step = 23601 (0.244 sec)\n"
     ]
    },
    {
     "name": "stdout",
     "output_type": "stream",
     "text": [
      "INFO:tensorflow:global_step/sec: 456.881\n",
      "INFO:tensorflow:loss = 49871094000.0, step = 23701 (0.246 sec)\n",
      "INFO:tensorflow:global_step/sec: 376.966\n",
      "INFO:tensorflow:loss = 29683771000.0, step = 23801 (0.240 sec)\n",
      "INFO:tensorflow:global_step/sec: 406.737\n",
      "INFO:tensorflow:loss = 102684615000.0, step = 23901 (0.243 sec)\n",
      "INFO:tensorflow:global_step/sec: 513.116\n",
      "INFO:tensorflow:loss = 128368920000.0, step = 24001 (0.199 sec)\n",
      "INFO:tensorflow:global_step/sec: 474.205\n",
      "INFO:tensorflow:loss = 123193190000.0, step = 24101 (0.208 sec)\n",
      "INFO:tensorflow:global_step/sec: 507.902\n",
      "INFO:tensorflow:loss = 39705710000.0, step = 24201 (0.197 sec)\n",
      "INFO:tensorflow:global_step/sec: 513.112\n",
      "INFO:tensorflow:loss = 91360944000.0, step = 24301 (0.195 sec)\n",
      "INFO:tensorflow:global_step/sec: 435.033\n",
      "INFO:tensorflow:loss = 32922241000.0, step = 24401 (0.230 sec)\n",
      "INFO:tensorflow:global_step/sec: 461.094\n",
      "INFO:tensorflow:loss = 17403826000.0, step = 24501 (0.218 sec)\n",
      "INFO:tensorflow:global_step/sec: 476.463\n",
      "INFO:tensorflow:loss = 80852255000.0, step = 24601 (0.208 sec)\n",
      "INFO:tensorflow:global_step/sec: 505.339\n",
      "INFO:tensorflow:loss = 144186020000.0, step = 24701 (0.202 sec)\n",
      "INFO:tensorflow:global_step/sec: 478.74\n",
      "INFO:tensorflow:loss = 91116724000.0, step = 24801 (0.203 sec)\n",
      "INFO:tensorflow:global_step/sec: 510.498\n",
      "INFO:tensorflow:loss = 80437190000.0, step = 24901 (0.199 sec)\n",
      "INFO:tensorflow:Saving checkpoints for 25000 into C:\\Users\\admin\\AppData\\Local\\Temp\\tmptee0gi2a\\model.ckpt.\n",
      "INFO:tensorflow:Loss for final step: 72225550000.0.\n"
     ]
    },
    {
     "data": {
      "text/plain": [
       "<tensorflow.python.estimator.canned.dnn.DNNRegressor at 0x11736e30e10>"
      ]
     },
     "execution_count": 21,
     "metadata": {},
     "output_type": "execute_result"
    }
   ],
   "source": [
    "model.train(input_fn=input_func,steps=25000) "
   ]
  },
  {
   "cell_type": "markdown",
   "metadata": {},
   "source": [
    "** Create a prediction input function and then use the .predict method off your estimator model to create a list or predictions on your test data. **"
   ]
  },
  {
   "cell_type": "code",
   "execution_count": 22,
   "metadata": {},
   "outputs": [],
   "source": [
    "pred_input_func = tf.estimator.inputs.pandas_input_fn(x=f_test,batch_size=10,num_epochs=1,shuffle=False)"
   ]
  },
  {
   "cell_type": "code",
   "execution_count": 23,
   "metadata": {},
   "outputs": [],
   "source": [
    "pred_gen = model.predict(pred_input_func)"
   ]
  },
  {
   "cell_type": "code",
   "execution_count": 24,
   "metadata": {},
   "outputs": [
    {
     "name": "stdout",
     "output_type": "stream",
     "text": [
      "INFO:tensorflow:Restoring parameters from C:\\Users\\admin\\AppData\\Local\\Temp\\tmptee0gi2a\\model.ckpt-25000\n"
     ]
    }
   ],
   "source": [
    "predictions = list(pred_gen)"
   ]
  },
  {
   "cell_type": "markdown",
   "metadata": {},
   "source": [
    "** Calculate the RMSE. You should be able to get around 100,000 RMSE (remember that this is in the same units as the label.) Do this manually or use [sklearn.metrics](http://scikit-learn.org/stable/modules/generated/sklearn.metrics.mean_squared_error.html) **"
   ]
  },
  {
   "cell_type": "code",
   "execution_count": 25,
   "metadata": {},
   "outputs": [],
   "source": [
    "final_preds = []\n",
    "for pred in predictions:\n",
    "    final_preds.append(pred['predictions'])"
   ]
  },
  {
   "cell_type": "code",
   "execution_count": 26,
   "metadata": {},
   "outputs": [],
   "source": [
    "from sklearn.metrics import mean_squared_error"
   ]
  },
  {
   "cell_type": "code",
   "execution_count": 27,
   "metadata": {},
   "outputs": [
    {
     "data": {
      "text/plain": [
       "96046.92525964428"
      ]
     },
     "execution_count": 27,
     "metadata": {},
     "output_type": "execute_result"
    }
   ],
   "source": [
    "mean_squared_error(l_test,final_preds)**0.5"
   ]
  }
 ],
 "metadata": {
  "kernelspec": {
   "display_name": "Python 3",
   "language": "python",
   "name": "python3"
  },
  "language_info": {
   "codemirror_mode": {
    "name": "ipython",
    "version": 3
   },
   "file_extension": ".py",
   "mimetype": "text/x-python",
   "name": "python",
   "nbconvert_exporter": "python",
   "pygments_lexer": "ipython3",
   "version": "3.5.4"
  }
 },
 "nbformat": 4,
 "nbformat_minor": 2
}
